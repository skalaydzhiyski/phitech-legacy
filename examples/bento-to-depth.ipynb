{
 "cells": [
  {
   "cell_type": "code",
   "execution_count": 1,
   "id": "9f83338d-6a5e-4acf-9361-4508c2d4cfe6",
   "metadata": {},
   "outputs": [],
   "source": [
    "import pandas as pd\n",
    "import numpy as np\n",
    "import phitech.helpers.sierra as pth_sierra\n",
    "import matplotlib.pyplot as plt\n",
    "from progiter import ProgIter\n",
    "import time"
   ]
  },
  {
   "cell_type": "code",
   "execution_count": 2,
   "id": "722cd8c3-7c92-4fa5-ac38-ff5a9299485b",
   "metadata": {},
   "outputs": [
    {
     "name": "stdout",
     "output_type": "stream",
     "text": [
      "running -> bento to .scid (TODO: implement appending logic to the same scid file))\n",
      "load file\n",
      "convert to df\n"
     ]
    },
    {
     "name": "stderr",
     "output_type": "stream",
     "text": [
      "Exception ignored in: <bound method IPythonKernel._clean_thread_parent_frames of <ipykernel.ipkernel.IPythonKernel object at 0x7b258d241290>>\n",
      "Traceback (most recent call last):\n",
      "  File \"/home/darchitect/miniconda3/envs/trading/lib/python3.11/site-packages/ipykernel/ipkernel.py\", line 775, in _clean_thread_parent_frames\n",
      "    def _clean_thread_parent_frames(\n",
      "\n",
      "KeyboardInterrupt: \n",
      "Exception ignored in: <bound method IPythonKernel._clean_thread_parent_frames of <ipykernel.ipkernel.IPythonKernel object at 0x7b258d241290>>\n",
      "Traceback (most recent call last):\n",
      "  File \"/home/darchitect/miniconda3/envs/trading/lib/python3.11/site-packages/ipykernel/ipkernel.py\", line 775, in _clean_thread_parent_frames\n",
      "    def _clean_thread_parent_frames(\n",
      "\n",
      "KeyboardInterrupt: \n",
      "\n",
      "KeyboardInterrupt\n",
      "\n"
     ]
    }
   ],
   "source": [
    "pth_sierra.bento_to_sierra(\n",
    "    input_filepath='./mes-bento-small.mbo.dbn.zst',\n",
    "    output_scid_file='/home/darchitect/wine-bottles/SierraChart/drive_c/SierraChart/Data/bento-small.scid',\n",
    "    output_depth_file='/home/darchitect/wine-bottles/SierraChart/drive_c/SierraChart/Data/MarketDepthData/bento-small.2024-06-20.depth'\n",
    ")"
   ]
  },
  {
   "cell_type": "code",
   "execution_count": null,
   "id": "1a3b5b78-4949-4a40-87e9-f093cc1a5bfe",
   "metadata": {},
   "outputs": [],
   "source": []
  }
 ],
 "metadata": {
  "kernelspec": {
   "display_name": "Python 3 (ipykernel)",
   "language": "python",
   "name": "python3"
  },
  "language_info": {
   "codemirror_mode": {
    "name": "ipython",
    "version": 3
   },
   "file_extension": ".py",
   "mimetype": "text/x-python",
   "name": "python",
   "nbconvert_exporter": "python",
   "pygments_lexer": "ipython3",
   "version": "3.11.9"
  }
 },
 "nbformat": 4,
 "nbformat_minor": 5
}
