{
 "cells": [
  {
   "cell_type": "code",
   "execution_count": 1,
   "id": "9f83338d-6a5e-4acf-9361-4508c2d4cfe6",
   "metadata": {},
   "outputs": [],
   "source": [
    "import pandas as pd\n",
    "import numpy as np\n",
    "import phitech.helpers.sierra as pth_sierra\n",
    "import matplotlib.pyplot as plt\n",
    "from progiter import ProgIter\n",
    "import time"
   ]
  },
  {
   "cell_type": "code",
   "execution_count": null,
   "id": "50c395f4-f2ea-451a-89f8-880f8f4723dc",
   "metadata": {},
   "outputs": [
    {
     "name": "stdout",
     "output_type": "stream",
     "text": [
      "load file\n",
      "convert to df\n"
     ]
    }
   ],
   "source": [
    "pth_sierra.bento_to_scid(\"mes-bento-small.mbo.dbn.zst\", \"bento-small.scid\")"
   ]
  },
  {
   "cell_type": "code",
   "execution_count": 3,
   "id": "dcb65788-910b-4725-b130-0bd4aaddd8b0",
   "metadata": {},
   "outputs": [
    {
     "name": "stdout",
     "output_type": "stream",
     "text": [
      "first -> MboMsg { hd: RecordHeader { length: 14, rtype: Mbo, publisher_id: GlbxMdp3Glbx, instrument_id: 7114, ts_event: 1718539204680368535 }, order_id: 0, price: UNDEF_PRICE, size: 0, flags: SNAPSHOT | BAD_TS_RECV (40), channel_id: 8, action: 'R', side: 'N', ts_recv: 1718841600000000000, ts_in_delta: 0, sequence: 0 }\n",
      "instrument_id -> 7114\n",
      "publisher_id -> 1\n",
      " 18111/?... rate=878.11 Hz, total=0:00:14n_states reached, break\n",
      "make init depth\n",
      "make depth (parse states)\n",
      " 9999/?... rate=40.12 Hz, total=0:04:07\n",
      "shape bento_depth -> (10295, 6)\n",
      "first timestamp -> 2024-06-20 00:00:00.006000\n",
      "last timestamp -> 2024-06-20 00:16:23.337000\n",
      " 100.00% 10295/10295... rate=8590.29 Hz, eta=0:00:00, total=0:00:01\n",
      "Writing bytes to bento-small.depth\n",
      "done.\n"
     ]
    }
   ],
   "source": [
    "pth_sierra.bento_zst_to_depth(\"mes-bento-small.mbo.dbn.zst\", \"bento-small.depth\")"
   ]
  }
 ],
 "metadata": {
  "kernelspec": {
   "display_name": "Python 3 (ipykernel)",
   "language": "python",
   "name": "python3"
  },
  "language_info": {
   "codemirror_mode": {
    "name": "ipython",
    "version": 3
   },
   "file_extension": ".py",
   "mimetype": "text/x-python",
   "name": "python",
   "nbconvert_exporter": "python",
   "pygments_lexer": "ipython3",
   "version": "3.11.9"
  }
 },
 "nbformat": 4,
 "nbformat_minor": 5
}
