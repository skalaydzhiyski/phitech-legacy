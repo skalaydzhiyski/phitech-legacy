{
 "cells": [
  {
   "cell_type": "code",
   "execution_count": 27,
   "id": "17848691-fb8f-45c4-8c4b-3f5fb9e73413",
   "metadata": {},
   "outputs": [],
   "source": [
    "import phitech.helpers.sierra as pth_sierra\n",
    "import pandas as pd\n",
    "import matplotlib.pyplot as plt"
   ]
  },
  {
   "cell_type": "code",
   "execution_count": 28,
   "id": "1182a6d3-b229-4415-9115-f1070c538c9e",
   "metadata": {},
   "outputs": [
    {
     "name": "stdout",
     "output_type": "stream",
     "text": [
      "header -> b'SCID8\\x00\\x00\\x00(\\x00\\x00\\x00\\x01\\x00\\x00\\x00\\x00\\x00\\x00\\x00\\x00\\x00\\x00\\x00\\x00\\x00\\x00\\x00\\x00\\x00\\x00\\x00\\x00\\x00\\x00\\x00\\x00\\x00\\x00\\x00\\x00\\x00\\x00\\x00\\x00\\x00\\x00\\x00\\x00\\x00\\x00\\x00\\x00\\x00\\x00\\x00'\n"
     ]
    },
    {
     "data": {
      "text/html": [
       "<div>\n",
       "<style scoped>\n",
       "    .dataframe tbody tr th:only-of-type {\n",
       "        vertical-align: middle;\n",
       "    }\n",
       "\n",
       "    .dataframe tbody tr th {\n",
       "        vertical-align: top;\n",
       "    }\n",
       "\n",
       "    .dataframe thead th {\n",
       "        text-align: right;\n",
       "    }\n",
       "</style>\n",
       "<table border=\"1\" class=\"dataframe\">\n",
       "  <thead>\n",
       "    <tr style=\"text-align: right;\">\n",
       "      <th></th>\n",
       "      <th>timestamp</th>\n",
       "      <th>ts</th>\n",
       "      <th>price</th>\n",
       "      <th>side</th>\n",
       "      <th>action</th>\n",
       "      <th>size</th>\n",
       "    </tr>\n",
       "  </thead>\n",
       "  <tbody>\n",
       "    <tr>\n",
       "      <th>0</th>\n",
       "      <td>3927484800090000</td>\n",
       "      <td>2024-06-04 00:00:00.090000</td>\n",
       "      <td>5437.50</td>\n",
       "      <td>B</td>\n",
       "      <td>F</td>\n",
       "      <td>2</td>\n",
       "    </tr>\n",
       "    <tr>\n",
       "      <th>1</th>\n",
       "      <td>3927484800090001</td>\n",
       "      <td>2024-06-04 00:00:00.090001</td>\n",
       "      <td>5437.50</td>\n",
       "      <td>B</td>\n",
       "      <td>F</td>\n",
       "      <td>1</td>\n",
       "    </tr>\n",
       "    <tr>\n",
       "      <th>2</th>\n",
       "      <td>3927484800090002</td>\n",
       "      <td>2024-06-04 00:00:00.090002</td>\n",
       "      <td>5437.50</td>\n",
       "      <td>B</td>\n",
       "      <td>F</td>\n",
       "      <td>1</td>\n",
       "    </tr>\n",
       "    <tr>\n",
       "      <th>3</th>\n",
       "      <td>3927484800090003</td>\n",
       "      <td>2024-06-04 00:00:00.090003</td>\n",
       "      <td>5437.50</td>\n",
       "      <td>B</td>\n",
       "      <td>F</td>\n",
       "      <td>1</td>\n",
       "    </tr>\n",
       "    <tr>\n",
       "      <th>4</th>\n",
       "      <td>3927484800090004</td>\n",
       "      <td>2024-06-04 00:00:00.090004</td>\n",
       "      <td>5437.50</td>\n",
       "      <td>B</td>\n",
       "      <td>F</td>\n",
       "      <td>1</td>\n",
       "    </tr>\n",
       "    <tr>\n",
       "      <th>...</th>\n",
       "      <td>...</td>\n",
       "      <td>...</td>\n",
       "      <td>...</td>\n",
       "      <td>...</td>\n",
       "      <td>...</td>\n",
       "      <td>...</td>\n",
       "    </tr>\n",
       "    <tr>\n",
       "      <th>344570</th>\n",
       "      <td>3927560397291000</td>\n",
       "      <td>2024-06-04 20:59:57.291000</td>\n",
       "      <td>5435.75</td>\n",
       "      <td>A</td>\n",
       "      <td>F</td>\n",
       "      <td>1</td>\n",
       "    </tr>\n",
       "    <tr>\n",
       "      <th>344571</th>\n",
       "      <td>3927560397291001</td>\n",
       "      <td>2024-06-04 20:59:57.291001</td>\n",
       "      <td>5435.75</td>\n",
       "      <td>A</td>\n",
       "      <td>F</td>\n",
       "      <td>1</td>\n",
       "    </tr>\n",
       "    <tr>\n",
       "      <th>344572</th>\n",
       "      <td>3927560397291002</td>\n",
       "      <td>2024-06-04 20:59:57.291002</td>\n",
       "      <td>5435.75</td>\n",
       "      <td>A</td>\n",
       "      <td>F</td>\n",
       "      <td>1</td>\n",
       "    </tr>\n",
       "    <tr>\n",
       "      <th>344573</th>\n",
       "      <td>3927560398341000</td>\n",
       "      <td>2024-06-04 20:59:58.341000</td>\n",
       "      <td>5435.50</td>\n",
       "      <td>A</td>\n",
       "      <td>F</td>\n",
       "      <td>3</td>\n",
       "    </tr>\n",
       "    <tr>\n",
       "      <th>344574</th>\n",
       "      <td>3927560398725000</td>\n",
       "      <td>2024-06-04 20:59:58.725000</td>\n",
       "      <td>5435.50</td>\n",
       "      <td>A</td>\n",
       "      <td>F</td>\n",
       "      <td>1</td>\n",
       "    </tr>\n",
       "  </tbody>\n",
       "</table>\n",
       "<p>344575 rows × 6 columns</p>\n",
       "</div>"
      ],
      "text/plain": [
       "               timestamp                          ts    price side action  \\\n",
       "0       3927484800090000  2024-06-04 00:00:00.090000  5437.50    B      F   \n",
       "1       3927484800090001  2024-06-04 00:00:00.090001  5437.50    B      F   \n",
       "2       3927484800090002  2024-06-04 00:00:00.090002  5437.50    B      F   \n",
       "3       3927484800090003  2024-06-04 00:00:00.090003  5437.50    B      F   \n",
       "4       3927484800090004  2024-06-04 00:00:00.090004  5437.50    B      F   \n",
       "...                  ...                         ...      ...  ...    ...   \n",
       "344570  3927560397291000  2024-06-04 20:59:57.291000  5435.75    A      F   \n",
       "344571  3927560397291001  2024-06-04 20:59:57.291001  5435.75    A      F   \n",
       "344572  3927560397291002  2024-06-04 20:59:57.291002  5435.75    A      F   \n",
       "344573  3927560398341000  2024-06-04 20:59:58.341000  5435.50    A      F   \n",
       "344574  3927560398725000  2024-06-04 20:59:58.725000  5435.50    A      F   \n",
       "\n",
       "        size  \n",
       "0          2  \n",
       "1          1  \n",
       "2          1  \n",
       "3          1  \n",
       "4          1  \n",
       "...      ...  \n",
       "344570     1  \n",
       "344571     1  \n",
       "344572     1  \n",
       "344573     3  \n",
       "344574     1  \n",
       "\n",
       "[344575 rows x 6 columns]"
      ]
     },
     "execution_count": 28,
     "metadata": {},
     "output_type": "execute_result"
    }
   ],
   "source": [
    "sierra_primary = pth_sierra.sierra_to_primary('./data/MES-202406-CME-USD.scid', '2024-06-04')\n",
    "sierra_primary"
   ]
  },
  {
   "cell_type": "code",
   "execution_count": 29,
   "id": "a877fa6f-031c-4e27-a1f8-e54b04b23c72",
   "metadata": {},
   "outputs": [
    {
     "name": "stdout",
     "output_type": "stream",
     "text": [
      "make ticks\n",
      "loading data from -> ./data/bento_full.csv\n",
      "bento data loaded -> (5727945, 9)\n",
      "filter out market depth and unnecessary columns\n",
      "make primary\n"
     ]
    },
    {
     "data": {
      "text/html": [
       "<div>\n",
       "<style scoped>\n",
       "    .dataframe tbody tr th:only-of-type {\n",
       "        vertical-align: middle;\n",
       "    }\n",
       "\n",
       "    .dataframe tbody tr th {\n",
       "        vertical-align: top;\n",
       "    }\n",
       "\n",
       "    .dataframe thead th {\n",
       "        text-align: right;\n",
       "    }\n",
       "</style>\n",
       "<table border=\"1\" class=\"dataframe\">\n",
       "  <thead>\n",
       "    <tr style=\"text-align: right;\">\n",
       "      <th></th>\n",
       "      <th>timestamp</th>\n",
       "      <th>ts</th>\n",
       "      <th>price</th>\n",
       "      <th>side</th>\n",
       "      <th>action</th>\n",
       "      <th>size</th>\n",
       "    </tr>\n",
       "  </thead>\n",
       "  <tbody>\n",
       "    <tr>\n",
       "      <th>0</th>\n",
       "      <td>3928228140006379</td>\n",
       "      <td>2024-06-12 14:29:00.006379</td>\n",
       "      <td>5452.00</td>\n",
       "      <td>A</td>\n",
       "      <td>F</td>\n",
       "      <td>5</td>\n",
       "    </tr>\n",
       "    <tr>\n",
       "      <th>1</th>\n",
       "      <td>3928228140006381</td>\n",
       "      <td>2024-06-12 14:29:00.006381</td>\n",
       "      <td>5452.00</td>\n",
       "      <td>A</td>\n",
       "      <td>F</td>\n",
       "      <td>2</td>\n",
       "    </tr>\n",
       "    <tr>\n",
       "      <th>2</th>\n",
       "      <td>3928228140006381</td>\n",
       "      <td>2024-06-12 14:29:00.006381</td>\n",
       "      <td>5452.00</td>\n",
       "      <td>A</td>\n",
       "      <td>F</td>\n",
       "      <td>8</td>\n",
       "    </tr>\n",
       "    <tr>\n",
       "      <th>3</th>\n",
       "      <td>3928228140006824</td>\n",
       "      <td>2024-06-12 14:29:00.006824</td>\n",
       "      <td>5452.00</td>\n",
       "      <td>B</td>\n",
       "      <td>F</td>\n",
       "      <td>1</td>\n",
       "    </tr>\n",
       "    <tr>\n",
       "      <th>4</th>\n",
       "      <td>3928228140006834</td>\n",
       "      <td>2024-06-12 14:29:00.006834</td>\n",
       "      <td>5452.00</td>\n",
       "      <td>B</td>\n",
       "      <td>F</td>\n",
       "      <td>8</td>\n",
       "    </tr>\n",
       "    <tr>\n",
       "      <th>...</th>\n",
       "      <td>...</td>\n",
       "      <td>...</td>\n",
       "      <td>...</td>\n",
       "      <td>...</td>\n",
       "      <td>...</td>\n",
       "      <td>...</td>\n",
       "    </tr>\n",
       "    <tr>\n",
       "      <th>328384</th>\n",
       "      <td>3928262385439827</td>\n",
       "      <td>2024-06-12 23:59:45.439827</td>\n",
       "      <td>5436.25</td>\n",
       "      <td>A</td>\n",
       "      <td>F</td>\n",
       "      <td>1</td>\n",
       "    </tr>\n",
       "    <tr>\n",
       "      <th>328385</th>\n",
       "      <td>3928262385439827</td>\n",
       "      <td>2024-06-12 23:59:45.439827</td>\n",
       "      <td>5436.25</td>\n",
       "      <td>A</td>\n",
       "      <td>F</td>\n",
       "      <td>2</td>\n",
       "    </tr>\n",
       "    <tr>\n",
       "      <th>328386</th>\n",
       "      <td>3928262385439827</td>\n",
       "      <td>2024-06-12 23:59:45.439827</td>\n",
       "      <td>5436.25</td>\n",
       "      <td>A</td>\n",
       "      <td>F</td>\n",
       "      <td>1</td>\n",
       "    </tr>\n",
       "    <tr>\n",
       "      <th>328387</th>\n",
       "      <td>3928262385439827</td>\n",
       "      <td>2024-06-12 23:59:45.439827</td>\n",
       "      <td>5436.25</td>\n",
       "      <td>A</td>\n",
       "      <td>F</td>\n",
       "      <td>2</td>\n",
       "    </tr>\n",
       "    <tr>\n",
       "      <th>328388</th>\n",
       "      <td>3928262392475247</td>\n",
       "      <td>2024-06-12 23:59:52.475247</td>\n",
       "      <td>5436.25</td>\n",
       "      <td>A</td>\n",
       "      <td>F</td>\n",
       "      <td>1</td>\n",
       "    </tr>\n",
       "  </tbody>\n",
       "</table>\n",
       "<p>328389 rows × 6 columns</p>\n",
       "</div>"
      ],
      "text/plain": [
       "               timestamp                          ts    price side action  \\\n",
       "0       3928228140006379  2024-06-12 14:29:00.006379  5452.00    A      F   \n",
       "1       3928228140006381  2024-06-12 14:29:00.006381  5452.00    A      F   \n",
       "2       3928228140006381  2024-06-12 14:29:00.006381  5452.00    A      F   \n",
       "3       3928228140006824  2024-06-12 14:29:00.006824  5452.00    B      F   \n",
       "4       3928228140006834  2024-06-12 14:29:00.006834  5452.00    B      F   \n",
       "...                  ...                         ...      ...  ...    ...   \n",
       "328384  3928262385439827  2024-06-12 23:59:45.439827  5436.25    A      F   \n",
       "328385  3928262385439827  2024-06-12 23:59:45.439827  5436.25    A      F   \n",
       "328386  3928262385439827  2024-06-12 23:59:45.439827  5436.25    A      F   \n",
       "328387  3928262385439827  2024-06-12 23:59:45.439827  5436.25    A      F   \n",
       "328388  3928262392475247  2024-06-12 23:59:52.475247  5436.25    A      F   \n",
       "\n",
       "        size  \n",
       "0          5  \n",
       "1          2  \n",
       "2          8  \n",
       "3          1  \n",
       "4          8  \n",
       "...      ...  \n",
       "328384     1  \n",
       "328385     2  \n",
       "328386     1  \n",
       "328387     2  \n",
       "328388     1  \n",
       "\n",
       "[328389 rows x 6 columns]"
      ]
     },
     "execution_count": 29,
     "metadata": {},
     "output_type": "execute_result"
    }
   ],
   "source": [
    "bento_primary = pth_sierra.bento_to_primary(\"./data/bento_full.csv\")\n",
    "bento_primary"
   ]
  },
  {
   "cell_type": "code",
   "execution_count": 30,
   "id": "4c665c4e-883c-4764-b7ad-1a294cfe40b6",
   "metadata": {},
   "outputs": [
    {
     "data": {
      "text/plain": [
       "<Axes: >"
      ]
     },
     "execution_count": 30,
     "metadata": {},
     "output_type": "execute_result"
    },
    {
     "data": {
      "image/png": "[encoded data removed]",
      "text/plain": [
       "<Figure size 640x480 with 1 Axes>"
      ]
     },
     "metadata": {},
     "output_type": "display_data"
    }
   ],
   "source": [
    "sierra_primary.price.plot()"
   ]
  },
  {
   "cell_type": "code",
   "execution_count": 31,
   "id": "6b703de2-13c7-4866-92d5-6a02880be2bd",
   "metadata": {},
   "outputs": [
    {
     "data": {
      "text/plain": [
       "<Axes: >"
      ]
     },
     "execution_count": 31,
     "metadata": {},
     "output_type": "execute_result"
    },
    {
     "data": {
      "image/png": "[encoded data removed]",
      "text/plain": [
       "<Figure size 640x480 with 1 Axes>"
      ]
     },
     "metadata": {},
     "output_type": "display_data"
    }
   ],
   "source": [
    "bento_primary.price.plot()"
   ]
  },
  {
   "cell_type": "code",
   "execution_count": 32,
   "id": "3ce90fe1-b115-4316-a791-a3112f2f3767",
   "metadata": {},
   "outputs": [
    {
     "name": "stdout",
     "output_type": "stream",
     "text": [
      " 100.00% 344575/344575... rate=5645.40 Hz, eta=0:00:00, total=0:01:00\n",
      "Writing bytes to /home/darchitect/wine-bottles/SierraChart/drive_c/SierraChart/Data/sierra-test.scid\n",
      "done.\n"
     ]
    }
   ],
   "source": [
    "pth_sierra.primary_to_scid(\n",
    "    sierra_primary,\n",
    "    '/home/darchitect/wine-bottles/SierraChart/drive_c/SierraChart/Data/sierra-test.scid'\n",
    ")"
   ]
  },
  {
   "cell_type": "code",
   "execution_count": 33,
   "id": "ffa4370d-5eb7-478c-891d-7e42b83dd11e",
   "metadata": {},
   "outputs": [
    {
     "name": "stdout",
     "output_type": "stream",
     "text": [
      " 100.00% 328389/328389... rate=5822.39 Hz, eta=0:00:00, total=0:00:57\n",
      "Writing bytes to /home/darchitect/wine-bottles/SierraChart/drive_c/SierraChart/Data/bento-test.scid\n",
      "done.\n"
     ]
    }
   ],
   "source": [
    "pth_sierra.primary_to_scid(\n",
    "    bento_primary,\n",
    "    '/home/darchitect/wine-bottles/SierraChart/drive_c/SierraChart/Data/bento-test.scid'\n",
    ")"
   ]
  },
  {
   "cell_type": "code",
   "execution_count": null,
   "id": "80535c41-fa55-4b8c-8785-f67e779a7819",
   "metadata": {},
   "outputs": [],
   "source": []
  }
 ],
 "metadata": {
  "kernelspec": {
   "display_name": "Python 3 (ipykernel)",
   "language": "python",
   "name": "python3"
  },
  "language_info": {
   "codemirror_mode": {
    "name": "ipython",
    "version": 3
   },
   "file_extension": ".py",
   "mimetype": "text/x-python",
   "name": "python",
   "nbconvert_exporter": "python",
   "pygments_lexer": "ipython3",
   "version": "3.11.9"
  }
 },
 "nbformat": 4,
 "nbformat_minor": 5
}
